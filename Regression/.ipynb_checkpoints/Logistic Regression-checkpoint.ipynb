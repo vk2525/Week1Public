{
 "cells": [
  {
   "cell_type": "markdown",
   "metadata": {},
   "source": [
    "# Logistic Regression"
   ]
  },
  {
   "cell_type": "markdown",
   "metadata": {},
   "source": [
    "We will cover logistic regression in \n",
    "\n",
    "Feigl and Zelen$^2$ reported the survival time in weeks and the white cell blood count (WBC) at time of diagnosis for 33 patients who eventually died of acute leukemia. Each person was classified as AG+ or AG−, indicating the presence or absence of a certain morphological characteristic in the white cells. Four variables are given in the data set: WBC, a binary factor or indicator variable AG (1 for AG+, 0 for AG−), NTOTAL (the number of patients with the given combination of AG and WBC), and NRES (the number of NTOTAL\n",
    "that survived at least one year from the time of diagnosis)."
   ]
  },
  {
   "cell_type": "markdown",
   "metadata": {},
   "source": [
    "The researchers are interested in modelling the probability p of surviving at\n",
    "least one year as a function of WBC and AG. They believe that WBC should\n",
    "be transformed to a log scale, given the skewness in the WBC values."
   ]
  },
  {
   "cell_type": "code",
   "execution_count": 1,
   "metadata": {},
   "outputs": [],
   "source": [
    "# Needed Libraries\n",
    "import pandas as pd\n",
    "import numpy as np\n",
    "import matplotlib as plt\n",
    "import math\n",
    "import seaborn as sns"
   ]
  },
  {
   "cell_type": "code",
   "execution_count": 2,
   "metadata": {},
   "outputs": [],
   "source": [
    "#importing data found in Github\n",
    "\n",
    "filename = 'leuk.dat.txt'\n",
    "data = np.genfromtxt(filename,\n",
    "                     names = True,\n",
    "                     dtype = None)\n",
    "\n",
    "data = pd.DataFrame(data = data)"
   ]
  },
  {
   "cell_type": "markdown",
   "metadata": {},
   "source": [
    "Leukemia Data set\n",
    "\n",
    "Variables \n",
    "\n",
    "ntotal = number of patients with IAG and WBC combination\n",
    "\n",
    "nres = number surviving at least one year\n",
    "ag = 1 for AG+, 0 for AG-\n",
    "wbc = white cell blood count\n",
    "lwbc = log white cell blood count"
   ]
  },
  {
   "cell_type": "code",
   "execution_count": 21,
   "metadata": {},
   "outputs": [
    {
     "data": {
      "text/html": [
       "<div>\n",
       "<style scoped>\n",
       "    .dataframe tbody tr th:only-of-type {\n",
       "        vertical-align: middle;\n",
       "    }\n",
       "\n",
       "    .dataframe tbody tr th {\n",
       "        vertical-align: top;\n",
       "    }\n",
       "\n",
       "    .dataframe thead th {\n",
       "        text-align: right;\n",
       "    }\n",
       "</style>\n",
       "<table border=\"1\" class=\"dataframe\">\n",
       "  <thead>\n",
       "    <tr style=\"text-align: right;\">\n",
       "      <th></th>\n",
       "      <th>ntotal</th>\n",
       "      <th>nres</th>\n",
       "      <th>ag</th>\n",
       "      <th>wbc</th>\n",
       "      <th>log_wbc</th>\n",
       "      <th>phat</th>\n",
       "      <th>ntnr</th>\n",
       "    </tr>\n",
       "  </thead>\n",
       "  <tbody>\n",
       "    <tr>\n",
       "      <th>count</th>\n",
       "      <td>30.000000</td>\n",
       "      <td>30.000000</td>\n",
       "      <td>30.000000</td>\n",
       "      <td>30.000000</td>\n",
       "      <td>30.000000</td>\n",
       "      <td>30.000000</td>\n",
       "      <td>30.000000</td>\n",
       "    </tr>\n",
       "    <tr>\n",
       "      <th>mean</th>\n",
       "      <td>1.100000</td>\n",
       "      <td>0.366667</td>\n",
       "      <td>0.500000</td>\n",
       "      <td>2208.166667</td>\n",
       "      <td>7.022237</td>\n",
       "      <td>0.344444</td>\n",
       "      <td>0.733333</td>\n",
       "    </tr>\n",
       "    <tr>\n",
       "      <th>std</th>\n",
       "      <td>0.402578</td>\n",
       "      <td>0.490133</td>\n",
       "      <td>0.508548</td>\n",
       "      <td>2723.244288</td>\n",
       "      <td>1.242265</td>\n",
       "      <td>0.475317</td>\n",
       "      <td>0.583292</td>\n",
       "    </tr>\n",
       "    <tr>\n",
       "      <th>min</th>\n",
       "      <td>1.000000</td>\n",
       "      <td>0.000000</td>\n",
       "      <td>0.000000</td>\n",
       "      <td>75.000000</td>\n",
       "      <td>4.317488</td>\n",
       "      <td>0.000000</td>\n",
       "      <td>0.000000</td>\n",
       "    </tr>\n",
       "    <tr>\n",
       "      <th>25%</th>\n",
       "      <td>1.000000</td>\n",
       "      <td>0.000000</td>\n",
       "      <td>0.000000</td>\n",
       "      <td>462.500000</td>\n",
       "      <td>6.133300</td>\n",
       "      <td>0.000000</td>\n",
       "      <td>0.000000</td>\n",
       "    </tr>\n",
       "    <tr>\n",
       "      <th>50%</th>\n",
       "      <td>1.000000</td>\n",
       "      <td>0.000000</td>\n",
       "      <td>0.500000</td>\n",
       "      <td>1000.000000</td>\n",
       "      <td>6.907755</td>\n",
       "      <td>0.000000</td>\n",
       "      <td>1.000000</td>\n",
       "    </tr>\n",
       "    <tr>\n",
       "      <th>75%</th>\n",
       "      <td>1.000000</td>\n",
       "      <td>1.000000</td>\n",
       "      <td>1.000000</td>\n",
       "      <td>2775.000000</td>\n",
       "      <td>7.928283</td>\n",
       "      <td>1.000000</td>\n",
       "      <td>1.000000</td>\n",
       "    </tr>\n",
       "    <tr>\n",
       "      <th>max</th>\n",
       "      <td>3.000000</td>\n",
       "      <td>1.000000</td>\n",
       "      <td>1.000000</td>\n",
       "      <td>10000.000000</td>\n",
       "      <td>9.210340</td>\n",
       "      <td>1.000000</td>\n",
       "      <td>2.000000</td>\n",
       "    </tr>\n",
       "  </tbody>\n",
       "</table>\n",
       "</div>"
      ],
      "text/plain": [
       "          ntotal       nres         ag           wbc    log_wbc       phat  \\\n",
       "count  30.000000  30.000000  30.000000     30.000000  30.000000  30.000000   \n",
       "mean    1.100000   0.366667   0.500000   2208.166667   7.022237   0.344444   \n",
       "std     0.402578   0.490133   0.508548   2723.244288   1.242265   0.475317   \n",
       "min     1.000000   0.000000   0.000000     75.000000   4.317488   0.000000   \n",
       "25%     1.000000   0.000000   0.000000    462.500000   6.133300   0.000000   \n",
       "50%     1.000000   0.000000   0.500000   1000.000000   6.907755   0.000000   \n",
       "75%     1.000000   1.000000   1.000000   2775.000000   7.928283   1.000000   \n",
       "max     3.000000   1.000000   1.000000  10000.000000   9.210340   1.000000   \n",
       "\n",
       "            ntnr  \n",
       "count  30.000000  \n",
       "mean    0.733333  \n",
       "std     0.583292  \n",
       "min     0.000000  \n",
       "25%     0.000000  \n",
       "50%     1.000000  \n",
       "75%     1.000000  \n",
       "max     2.000000  "
      ]
     },
     "execution_count": 21,
     "metadata": {},
     "output_type": "execute_result"
    }
   ],
   "source": [
    "#View the data\n",
    "\n",
    "data.describe()\n"
   ]
  },
  {
   "cell_type": "code",
   "execution_count": 3,
   "metadata": {},
   "outputs": [],
   "source": [
    "#creating a new variable log WBC and p.hat proportion of nres and ntotal\n",
    "\n",
    "data['log_wbc'] = np.log(data.wbc)\n",
    "data['phat'] = data.nres/data.ntotal\n",
    "data['ntnr'] = data.ntotal- data.nres"
   ]
  },
  {
   "cell_type": "code",
   "execution_count": null,
   "metadata": {},
   "outputs": [],
   "source": [
    "data.head()"
   ]
  },
  {
   "cell_type": "code",
   "execution_count": 22,
   "metadata": {},
   "outputs": [
    {
     "data": {
      "text/plain": [
       "<seaborn.axisgrid.PairGrid at 0x1c18932a20>"
      ]
     },
     "execution_count": 22,
     "metadata": {},
     "output_type": "execute_result"
    },
    {
     "data": {
      "image/png": "[encoded data removed]",
      "text/plain": [
       "<Figure size 1260x1260 with 56 Axes>"
      ]
     },
     "metadata": {
      "needs_background": "light"
     },
     "output_type": "display_data"
    }
   ],
   "source": [
    "sns.pairplot(data)"
   ]
  },
  {
   "cell_type": "markdown",
   "metadata": {},
   "source": [
    "As an initial step in the analysis, consider the following model: \n",
    "\n",
    "$$log(\\frac{p}{1-p})= \\beta_0 +\\beta_1LWBC + \\beta_2AG$$\n",
    "\n",
    "where LWBC = log(WBC). The model is best understood by separating the AG+ and AG− cases. For AG− individuals, AG=0 so the model reduces to\n",
    "\n",
    "$$log(\\frac{p}{1-p})= \\beta_0 +\\beta_1LWBC + \\beta_2*0 =  \\beta_0 +\\beta_1LWBC$$.\n",
    "\n",
    "Problem: What is the model for AG+ individuals (AG = 1)?\n",
    "\n",
    "\\textcolor{red}{Answer:}  \n",
    "$$log(\\frac{p}{1-p})= \\beta_0 +\\beta_1LWBC + \\beta_2*1 =  (\\beta_0+\\beta_2) +\\beta_1LWBC$$.\n",
    "\n",
    "The model without AG is a simple logistic model where the\n",
    "log-odds of surviving one year is linearly related to LWBC, and is independent\n",
    "of AG. The reduced model with $\\beta_2 = 0$ implies that there is no effect of the\n",
    "AG level on the survival probability once LWBC has been taken into account.\n",
    "Including the binary predictor AG in the model implies that there is\n",
    "a linear relationship between the log-odds of surviving one year and LWBC,\n",
    "with a constant slope for the two AG levels. This model includes an effect for\n",
    "the AG morphological factor, but more general models are possible. A natural\n",
    "extension would be to include a product or interaction effect, a point that I will\n",
    "return to momentarily.  \n",
    "The parameters are easily interpreted: $\\beta_0$ and $\\beta_0 + \\beta_2$ are intercepts for\n",
    "the population logistic regression lines for AG− and AG+, respectively. The\n",
    "lines have a common slope, $\\beta_1$. The $\\beta_2$ coefficient for the AG indicator is the\n",
    "difference between intercepts for the AG+ and AG− regression lines. A picture\n",
    "of the assumed relationship is given below for$\\beta_1$ < 0. The population regression\n",
    "lines are parallel on the logit scale only, but the order between AG groups is\n",
    "preserved on the probability scale."
   ]
  },
  {
   "cell_type": "code",
   "execution_count": null,
   "metadata": {},
   "outputs": [],
   "source": [
    "#importing image\n",
    "from IPython.display import Image\n",
    "Image(filename='logscale.png')"
   ]
  },
  {
   "cell_type": "code",
   "execution_count": 20,
   "metadata": {},
   "outputs": [
    {
     "name": "stdout",
     "output_type": "stream",
     "text": [
      "Optimization terminated successfully.\n",
      "         Current function value: 0.438284\n",
      "         Iterations 7\n",
      "                           Logit Regression Results                           \n",
      "==============================================================================\n",
      "Dep. Variable:                   nres   No. Observations:                   30\n",
      "Model:                          Logit   Df Residuals:                       27\n",
      "Method:                           MLE   Df Model:                            2\n",
      "Date:                Sun, 30 Jun 2019   Pseudo R-squ.:                  0.3331\n",
      "Time:                        19:41:01   Log-Likelihood:                -13.149\n",
      "converged:                       True   LL-Null:                       -19.715\n",
      "                                        LLR p-value:                  0.001407\n",
      "==============================================================================\n",
      "                 coef    std err          z      P>|z|      [0.025      0.975]\n",
      "------------------------------------------------------------------------------\n",
      "ag             2.5067      1.066      2.351      0.019       0.417       4.597\n",
      "log_wbc       -0.9887      0.483     -2.046      0.041      -1.936      -0.042\n",
      "intercept      4.7909      3.178      1.507      0.132      -1.438      11.020\n",
      "==============================================================================\n"
     ]
    },
    {
     "name": "stderr",
     "output_type": "stream",
     "text": [
      "/Users/jevarela/anaconda3/lib/python3.7/site-packages/ipykernel_launcher.py:5: SettingWithCopyWarning: \n",
      "A value is trying to be set on a copy of a slice from a DataFrame.\n",
      "Try using .loc[row_indexer,col_indexer] = value instead\n",
      "\n",
      "See the caveats in the documentation: http://pandas.pydata.org/pandas-docs/stable/indexing.html#indexing-view-versus-copy\n",
      "  \"\"\"\n"
     ]
    }
   ],
   "source": [
    "import statsmodels.api as sm\n",
    "\n",
    "\n",
    "datax = data[['ag','log_wbc']]\n",
    "datax['intercept'] = 1.0\n",
    "datay = data[['nres']]\n",
    "\n",
    "logit_model = sm.Logit(datay, datax)\n",
    "\n",
    "result = logit_model.fit()\n",
    "\n",
    "print(result.summary())\n",
    "\n"
   ]
  },
  {
   "cell_type": "code",
   "execution_count": 14,
   "metadata": {},
   "outputs": [
    {
     "name": "stderr",
     "output_type": "stream",
     "text": [
      "/Users/jevarela/anaconda3/lib/python3.7/site-packages/sklearn/linear_model/logistic.py:433: FutureWarning: Default solver will be changed to 'lbfgs' in 0.22. Specify a solver to silence this warning.\n",
      "  FutureWarning)\n",
      "/Users/jevarela/anaconda3/lib/python3.7/site-packages/sklearn/utils/validation.py:761: DataConversionWarning: A column-vector y was passed when a 1d array was expected. Please change the shape of y to (n_samples, ), for example using ravel().\n",
      "  y = column_or_1d(y, warn=True)\n"
     ]
    },
    {
     "data": {
      "text/plain": [
       "LogisticRegression(C=1.0, class_weight=None, dual=False, fit_intercept=True,\n",
       "          intercept_scaling=1, max_iter=100, multi_class='warn',\n",
       "          n_jobs=None, penalty='l2', random_state=None, solver='warn',\n",
       "          tol=0.0001, verbose=0, warm_start=False)"
      ]
     },
     "execution_count": 14,
     "metadata": {},
     "output_type": "execute_result"
    }
   ],
   "source": [
    "from sklearn.linear_model import LogisticRegression\n",
    "logreg = LogisticRegression()\n",
    "\n",
    "# fit the model with data\n",
    "datax = data[['ag','log_wbc']]\n",
    "\n",
    "datay = data[['nres']]\n",
    "\n",
    "\n",
    "\n",
    "#datay = datay.reshape(-1,1)\n",
    "#datax = datax.reshape(-1,1)\n",
    "\n",
    "\n",
    "logreg.fit(data[['ag','log_wbc']], data[['nres']])"
   ]
  },
  {
   "cell_type": "code",
   "execution_count": 10,
   "metadata": {},
   "outputs": [
    {
     "data": {
      "text/plain": [
       "(30, 2)"
      ]
     },
     "execution_count": 10,
     "metadata": {},
     "output_type": "execute_result"
    }
   ],
   "source": []
  },
  {
   "cell_type": "code",
   "execution_count": null,
   "metadata": {},
   "outputs": [],
   "source": []
  },
  {
   "cell_type": "code",
   "execution_count": null,
   "metadata": {},
   "outputs": [],
   "source": []
  }
 ],
 "metadata": {
  "kernelspec": {
   "display_name": "Python 3",
   "language": "python",
   "name": "python3"
  },
  "language_info": {
   "codemirror_mode": {
    "name": "ipython",
    "version": 3
   },
   "file_extension": ".py",
   "mimetype": "text/x-python",
   "name": "python",
   "nbconvert_exporter": "python",
   "pygments_lexer": "ipython3",
   "version": "3.6.7"
  }
 },
 "nbformat": 4,
 "nbformat_minor": 2
}
