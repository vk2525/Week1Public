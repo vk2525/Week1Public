{
 "cells": [
  {
   "cell_type": "markdown",
   "metadata": {
    "colab_type": "text",
    "id": "z8Jry4ZOsHix"
   },
   "source": [
    "## Linear Regression\n",
    "Hello! In this assignment you'll be implementing linear regression to predict housing prices in Portland, OR."
   ]
  },
  {
   "cell_type": "code",
   "execution_count": 3,
   "metadata": {
    "colab": {
     "base_uri": "https://localhost:8080/",
     "height": 136
    },
    "colab_type": "code",
    "id": "uqgA_g5zsHi0",
    "outputId": "be28c328-f0b0-4e54-c0b3-61fb67da52e8"
   },
   "outputs": [
    {
     "name": "stdout",
     "output_type": "stream",
     "text": [
      "Cloning into 'week1'...\n",
      "remote: Enumerating objects: 47, done.\u001b[K\n",
      "remote: Counting objects: 100% (47/47), done.\u001b[K\n",
      "remote: Compressing objects: 100% (38/38), done.\u001b[K\n",
      "remote: Total 47 (delta 13), reused 32 (delta 7), pack-reused 0\u001b[K\n",
      "Unpacking objects: 100% (47/47), done.\n"
     ]
    }
   ],
   "source": [
    "# Building path to repo, *only need to run once*\n",
    "! git clone https://github.com/bwsimedlytics/week1.git\n",
    "!pip install sklearn"
   ]
  },
  {
   "cell_type": "code",
   "execution_count": 4,
   "metadata": {
    "colab": {},
    "colab_type": "code",
    "id": "0v56zHigsHi3"
   },
   "outputs": [],
   "source": [
    "#Importing data\n",
    "import numpy as np\n",
    "from matplotlib import pyplot as plt\n",
    "import os"
   ]
  },
  {
   "cell_type": "code",
   "execution_count": 5,
   "metadata": {
    "colab": {},
    "colab_type": "code",
    "id": "z2dTZSI7sHi6"
   },
   "outputs": [],
   "source": [
    "os.chdir('./week1')"
   ]
  },
  {
   "cell_type": "code",
   "execution_count": 84,
   "metadata": {
    "colab": {},
    "colab_type": "code",
    "id": "X6wQ5exQsHjA"
   },
   "outputs": [],
   "source": [
    "with open(\"ex1data2.txt\", \"r\") as f:\n",
    "    x = f.read()\n",
    "    x = x.split(\"\\n\")[:-1]\n",
    "    y = np.array([int(house.split(\",\")[2]) for house in x])\n",
    "    x = np.array([int(house.split(\",\")[0]) for house in x])"
   ]
  },
  {
   "cell_type": "markdown",
   "metadata": {
    "colab_type": "text",
    "id": "uHohV7VnsHjC"
   },
   "source": [
    "First, let's talk about what regression is exactly. Google defines regression as \n",
    ">a measure of the relation between the mean value of one variable (e.g. output) and corresponding values of other variables (e.g. time and cost).\n",
    "\n",
    "This is just a fancy way to say \"the relationship between a variable and one or more other variables\". It's easy to see why we'd want to do this with an example.\n",
    "\n",
    "Say you're trying to sell a house and you want to find a good price to list it at. What we can do is look at what previous houses have sold for, and list them according to their square footage. If we were to graph our data on a scatterplot of sale price vs. square footage we'd get a plot like this"
   ]
  },
  {
   "cell_type": "code",
   "execution_count": 7,
   "metadata": {
    "colab": {
     "base_uri": "https://localhost:8080/",
     "height": 283
    },
    "colab_type": "code",
    "id": "dRSfL68usHjD",
    "outputId": "a298ab1c-776d-4313-8269-e51341981ee4"
   },
   "outputs": [
    {
     "data": {
      "image/png": "[encoded data removed]",
      "text/plain": [
       "<Figure size 432x288 with 1 Axes>"
      ]
     },
     "metadata": {
      "needs_background": "light"
     },
     "output_type": "display_data"
    }
   ],
   "source": [
    "plt.plot(x, y, 'ro'); plt.xlabel(\"House Square Footage\"); plt.ylabel(\"Market value (USD)\");"
   ]
  },
  {
   "cell_type": "markdown",
   "metadata": {
    "colab_type": "text",
    "id": "XkXT0-nGsHjK"
   },
   "source": [
    "There's clearly a trend; as square footage goes up, market value of the house also goes up. Square footage can't be used as a perfect predictor of price, but it's pretty close. It seems like we could draw a straight line on the graph that could be used to predict sale prices for other houses. Even if we didn't have a house in the dataset with 2600 sqft, we could use that line's formula to determine the approximate sale price of our house. This is called a trendline, or line of best fit. I've eyeballed one in MS Paint on the graph below."
   ]
  },
  {
   "cell_type": "markdown",
   "metadata": {
    "colab_type": "text",
    "id": "Ql488u0TsHjL"
   },
   "source": [
    "![image.png](https://andykong.org/static/eyeballedprices.png)"
   ]
  },
  {
   "cell_type": "markdown",
   "metadata": {
    "colab_type": "text",
    "id": "pwGPOmjrsHjN"
   },
   "source": [
    "While this line is pretty easy for us to draw manually, it'd be nice if we could define it mathematically so we could be sure we're getting the right price for our home. We can see that for this line there is an error associated with each data point — namely, the vertical distance between the trendline's predicted market price and the actual datapoint's market price. "
   ]
  },
  {
   "cell_type": "markdown",
   "metadata": {
    "colab_type": "text",
    "id": "fqKWPc7bsHjO"
   },
   "source": [
    "![image.png](data:image/png;base64,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)"
   ]
  },
  {
   "cell_type": "markdown",
   "metadata": {
    "colab_type": "text",
    "id": "dO5Q8f5KsHjP"
   },
   "source": [
    "If our trendline has the form\n",
    "$$y=mx+b$$"
   ]
  },
  {
   "cell_type": "markdown",
   "metadata": {
    "colab_type": "text",
    "id": "r61MSZUCsHjQ"
   },
   "source": [
    "You may also see this written as $$y = b_1x+b_0$$ or $$y = \\theta_1x+\\theta_0$$\n",
    "They all mean the same thing"
   ]
  },
  {
   "cell_type": "markdown",
   "metadata": {
    "colab_type": "text",
    "id": "GIk53_ZZsHjQ"
   },
   "source": [
    "where $x$ is square footage and $y$ is market value, then the error for any datapoint is going to be\n",
    "$$ y_{actual} - y_{predicted} $$\n",
    "In order to count negative and positive errors without them cancelling each other out, we take the squared error, or \n",
    "$$ (y_{actual} - y_{predicted})^2 $$\n",
    "\n",
    "\n",
    "Then for the list of market values $y_1,y_2,...,y_n$ and square footages $x_1,x_2,...,x_n$ the total error of our line is just the sum of each error term. This is also referred to as the cost $J$.\n",
    " $$ \\text{Total error = } \\sum^n_{i=1} (y_i - y_{predicted})^2 $$\n",
    "$$ = \\sum^n_{i=1} (y_i - (mx_i+b))^2$$"
   ]
  },
  {
   "cell_type": "markdown",
   "metadata": {
    "colab_type": "text",
    "id": "r1fH_8bnsHjR"
   },
   "source": [
    "Since our regression is going to be linear, there is only one $m$ and $b$ that minimize the total error.   \n",
    "Notice that if we were to plot cost vs. choice of $m$ or choice of $b$ it would form a sort of U-shaped graph, with one minimum. If we were to zoom in really closely we'd see that there is an instant where the graph is flat because the cost goes from decreasing to increasing. This means the derivative at this minimum point is 0. "
   ]
  },
  {
   "cell_type": "markdown",
   "metadata": {
    "colab_type": "text",
    "id": "G9LARSulsHjS"
   },
   "source": [
    "![image.png](https://kasunsviews.files.wordpress.com/2014/10/cvx-fun.gif?w=320&h=235)"
   ]
  },
  {
   "cell_type": "markdown",
   "metadata": {
    "colab_type": "text",
    "id": "Km6ZevACsHjS"
   },
   "source": [
    " $$ \\text{Total error = }  \\sum^n_{i=1} (y_i - (mx_i+b))^2$$"
   ]
  },
  {
   "cell_type": "markdown",
   "metadata": {
    "colab_type": "text",
    "id": "lENKYdiTsHjT"
   },
   "source": [
    "If we take the derivative for our total error summation formula with respect to $b$, we can set it equal to 0 and solve for the $b$ that minimizes the cost. Doing the same thing with respect to $m$ instead gets us the slope that minimizes the difference between our chosen trendline and the data. Actual derivation left as a fun exercise to the reader cause they get a little hairy. The formulas that minimize the $m$ and $b$ are\n",
    "$$ m = \\frac{\\sum^n_{i=1} (x_i-x_{mean})(y_i-y_{mean})}{\\sum^n_{i=1} (x_i-x_{mean})^2} $$\n",
    "$$ b = y_{mean}-m*x_{mean} $$\n"
   ]
  },
  {
   "cell_type": "markdown",
   "metadata": {
    "colab_type": "text",
    "id": "2iiSPL3nsHjU"
   },
   "source": [
    "To actually calculate this in Python, we can just iterate over all our examples. Let's see what our data looks like"
   ]
  },
  {
   "cell_type": "code",
   "execution_count": 8,
   "metadata": {
    "colab": {
     "base_uri": "https://localhost:8080/",
     "height": 51
    },
    "colab_type": "code",
    "id": "5TCogg4_sHjV",
    "outputId": "9443553b-64a7-4e33-9350-213408ebcbd4"
   },
   "outputs": [
    {
     "name": "stdout",
     "output_type": "stream",
     "text": [
      "House floor square area:  [2104 1600 2400 1416 3000 1985 1534 1427 1380 1494]\n",
      "House value in USD:  [399900 329900 369000 232000 539900 299900 314900 198999 212000 242500]\n"
     ]
    }
   ],
   "source": [
    "print(\"House floor square area: \", x[:10])  # Square footage\n",
    "print(\"House value in USD: \", y[:10]) # Corresponding sale price"
   ]
  },
  {
   "cell_type": "code",
   "execution_count": 10,
   "metadata": {
    "colab": {
     "base_uri": "https://localhost:8080/",
     "height": 130
    },
    "colab_type": "code",
    "id": "D53mal4psHjb",
    "outputId": "41ab1f14-85e5-40d6-8ccf-9073ef1a8150"
   },
   "outputs": [],
   "source": [
    "# Set up some variables\n",
    "x_mean = \n",
    "y_mean = "
   ]
  },
  {
   "cell_type": "markdown",
   "metadata": {
    "colab_type": "text",
    "id": "S8gEwiSJsHjf"
   },
   "source": [
    "We have the mean and all the data. Now implement the formula to calculate $m$ and $b$ using a for loop. Calculate $m$ first to make it a bit easier to get $b$"
   ]
  },
  {
   "cell_type": "code",
   "execution_count": 11,
   "metadata": {
    "colab": {},
    "colab_type": "code",
    "id": "ItDf21EksHjg"
   },
   "outputs": [],
   "source": [
    "### Solution:\n",
    "t1 = 0\n",
    "t2 = 0\n",
    "for i in range(len(x)):\n",
    "    t1 += \n",
    "    t2 += \n",
    "m = t1/t2\n",
    "\n",
    "b = y_mean-m*x_mean"
   ]
  },
  {
   "cell_type": "markdown",
   "metadata": {
    "colab_type": "text",
    "id": "Ssz6EUI1sHji"
   },
   "source": [
    "If you finish early, think about how to implement the calculation of $m$ without using a for loop. Remember that numpy arrays can multiply elementwise, and that a numpy array minus a scalar subtracts that value from every position:"
   ]
  },
  {
   "cell_type": "code",
   "execution_count": 12,
   "metadata": {
    "colab": {},
    "colab_type": "code",
    "id": "koBwRgz3sHji"
   },
   "outputs": [
    {
     "name": "stdout",
     "output_type": "stream",
     "text": [
      "[-1  0  1  2  3]\n"
     ]
    }
   ],
   "source": [
    "print(np.array([1,2,3,4,5])-2)"
   ]
  },
  {
   "cell_type": "markdown",
   "metadata": {
    "colab_type": "text",
    "id": "j7Ssr07msHjo"
   },
   "source": [
    "Once you have your $m$ and $b$ variables set, run the cell below to visualize your trendline. How's it look?"
   ]
  },
  {
   "cell_type": "code",
   "execution_count": 14,
   "metadata": {
    "colab": {},
    "colab_type": "code",
    "id": "czQJwgTgsHjo"
   },
   "outputs": [
    {
     "data": {
      "text/plain": [
       "[<matplotlib.lines.Line2D at 0x1199b9128>]"
      ]
     },
     "execution_count": 14,
     "metadata": {},
     "output_type": "execute_result"
    },
    {
     "data": {
      "image/png": "[encoded data removed]",
      "text/plain": [
       "<Figure size 432x288 with 1 Axes>"
      ]
     },
     "metadata": {
      "needs_background": "light"
     },
     "output_type": "display_data"
    }
   ],
   "source": [
    "plt.plot(x, y, 'ro'); plt.xlabel(\"House Square Footage\"); plt.ylabel(\"Market value (USD)\")\n",
    "xList = list(range(min(x),max(x),(max(x)-min(x))//100))\n",
    "plt.plot(xList,[m*delX+b for delX in xList])"
   ]
  },
  {
   "cell_type": "code",
   "execution_count": 15,
   "metadata": {
    "colab": {},
    "colab_type": "code",
    "id": "xVMqU75NsHjr"
   },
   "outputs": [
    {
     "name": "stdout",
     "output_type": "stream",
     "text": [
      "m:  134.52528772024135\n",
      "b:  71270.49244872906\n"
     ]
    }
   ],
   "source": [
    "print(\"m: \", m)\n",
    "print(\"b: \", b)"
   ]
  },
  {
   "cell_type": "markdown",
   "metadata": {
    "colab_type": "text",
    "id": "U8iMdNURsHjw"
   },
   "source": [
    "Given these parameters, how much should a house with 1600 sqft cost?"
   ]
  },
  {
   "cell_type": "code",
   "execution_count": null,
   "metadata": {
    "colab": {},
    "colab_type": "code",
    "id": "DOClaJoxsHjx"
   },
   "outputs": [],
   "source": []
  },
  {
   "cell_type": "markdown",
   "metadata": {
    "colab_type": "text",
    "id": "HP6c9zFRsHj0"
   },
   "source": [
    "From the dataset, how much did a house with 1600 sqft actually cost?"
   ]
  },
  {
   "cell_type": "code",
   "execution_count": null,
   "metadata": {
    "colab": {},
    "colab_type": "code",
    "id": "5c7SFUvOsHj4"
   },
   "outputs": [],
   "source": []
  },
  {
   "cell_type": "markdown",
   "metadata": {},
   "source": [
    "Assuming the current 1600 sqft house would sell for as much as the historical one, how much money would we have lost? What percentage of the total price is this?"
   ]
  },
  {
   "cell_type": "code",
   "execution_count": null,
   "metadata": {},
   "outputs": [],
   "source": []
  },
  {
   "cell_type": "markdown",
   "metadata": {},
   "source": [
    "Now that we've done it manually, I'm gonna show you how we can get libraries to do it for us."
   ]
  },
  {
   "cell_type": "code",
   "execution_count": 80,
   "metadata": {},
   "outputs": [],
   "source": [
    "import sklearn.linear_model as lm"
   ]
  },
  {
   "cell_type": "code",
   "execution_count": 85,
   "metadata": {},
   "outputs": [],
   "source": [
    "# create a linear regression model\n",
    "model = lm.LinearRegression()\n",
    "\n",
    "# Fit it to the data. We have to reshape it into a column list like [[3],[3],[3]...] instead of [3, 3, 3,...]\n",
    "x = np.array(x)\n",
    "x_shaped = x.reshape(-1,1)\n",
    "\n",
    "# Fit onto the results\n",
    "housepredictor = model.fit(x_shaped,y)"
   ]
  },
  {
   "cell_type": "code",
   "execution_count": 86,
   "metadata": {},
   "outputs": [
    {
     "name": "stdout",
     "output_type": "stream",
     "text": [
      "[134.52528772] 71270.49244872917\n",
      "134.52528772024135 71270.49244872906\n"
     ]
    }
   ],
   "source": [
    "# Looking at the variables m and b we manully created earlier, we see that they match the\n",
    "# ones that the library just fit for us\n",
    "print(housepredictor.coef_,housepredictor.intercept_)\n",
    "print(m,b)"
   ]
  },
  {
   "cell_type": "code",
   "execution_count": 87,
   "metadata": {},
   "outputs": [
    {
     "data": {
      "text/plain": [
       "0.7310037839755306"
      ]
     },
     "execution_count": 87,
     "metadata": {},
     "output_type": "execute_result"
    }
   ],
   "source": [
    "# we can also print the R^2 value of our model\n",
    "housepredictor.score(x1_shaped,y)"
   ]
  },
  {
   "cell_type": "markdown",
   "metadata": {},
   "source": [
    "Notice that if we had TWO x features and 1 y feature, we could make a scatterplot over 3D space and draw a plane to predict future results. "
   ]
  },
  {
   "cell_type": "markdown",
   "metadata": {},
   "source": [
    "The cost function is similar too; it just has one more slope coefficient. \n",
    "$$ y = m_1x_1+m_2x_2+b $$\n",
    "\n",
    "This is usually why people prefer the $b_0, b_1, b_2...$ notation because with many many features it gets annoying to use different variables for slope and the initial bias."
   ]
  },
  {
   "cell_type": "markdown",
   "metadata": {},
   "source": [
    "![yea](http://sphweb.bumc.bu.edu/otlt/MPH-Modules/BS/R/R5_Correlation-Regression/MultipleLinearRegression-Plane.png)"
   ]
  },
  {
   "cell_type": "markdown",
   "metadata": {},
   "source": [
    "\n",
    "Now we're going to re-import the data with an additional dimension; the number of bedrooms in each house"
   ]
  },
  {
   "cell_type": "code",
   "execution_count": 76,
   "metadata": {},
   "outputs": [],
   "source": [
    "with open(\"ex1data2.txt\", \"r\") as f:\n",
    "    x = f.read()\n",
    "    x = x.split(\"\\n\")[:-1]\n",
    "    y = np.array([int(house.split(\",\")[2]) for house in x])\n",
    "    x1 = np.array([int(house.split(\",\")[0]) for house in x])\n",
    "    x2 = np.array([int(house.split(\",\")[1]) for house in x])"
   ]
  },
  {
   "cell_type": "markdown",
   "metadata": {},
   "source": [
    "The number of bedrooms looks like this"
   ]
  },
  {
   "cell_type": "code",
   "execution_count": 63,
   "metadata": {},
   "outputs": [
    {
     "data": {
      "text/plain": [
       "array([3, 3, 3, 2, 4, 4, 3, 3, 3, 3, 4, 3, 3, 5, 3, 4, 2, 3, 4, 4, 3, 2,\n",
       "       3, 4, 3, 3, 3, 3, 3, 3, 2, 1, 4, 3, 4, 3, 3, 4, 4, 4, 2, 3, 4, 3,\n",
       "       2, 4, 3])"
      ]
     },
     "execution_count": 63,
     "metadata": {},
     "output_type": "execute_result"
    }
   ],
   "source": [
    "x2"
   ]
  },
  {
   "cell_type": "code",
   "execution_count": 88,
   "metadata": {},
   "outputs": [],
   "source": [
    "# create a linear regression model\n",
    "model = lm.LinearRegression()\n",
    "\n",
    "# We have to reshape the data into a column list like [[3],[3],[3]...] instead of [3, 3, 3,...]\n",
    "x1_shaped = x1.reshape(-1,1)\n",
    "x2_shaped = x2.reshape(-1,1)\n",
    "combined = np.concatenate((x1_shaped,x2_shaped),axis=1)"
   ]
  },
  {
   "cell_type": "code",
   "execution_count": 91,
   "metadata": {},
   "outputs": [
    {
     "data": {
      "text/plain": [
       "array([[2104,    3],\n",
       "       [1600,    3],\n",
       "       [2400,    3],\n",
       "       [1416,    2],\n",
       "       [3000,    4]])"
      ]
     },
     "execution_count": 91,
     "metadata": {},
     "output_type": "execute_result"
    }
   ],
   "source": [
    "# The combined columns look like this\n",
    "combined[:5]"
   ]
  },
  {
   "cell_type": "code",
   "execution_count": 92,
   "metadata": {},
   "outputs": [
    {
     "data": {
      "text/plain": [
       "0.7329450180289143"
      ]
     },
     "execution_count": 92,
     "metadata": {},
     "output_type": "execute_result"
    }
   ],
   "source": [
    "# Then we tell the model tofit the data and ys\n",
    "housepredictor = model.fit(combined,y)\n",
    "# and print the final R^2 value\n",
    "housepredictor.score(combined,y)"
   ]
  },
  {
   "cell_type": "markdown",
   "metadata": {},
   "source": [
    "What?? Our $R^2$ looks the same even though we added a new feature! Well, if we think about square footage and # of bedrooms, every additional bedroom will increase the square footage of the house. Therefore the extra feature we added (bedroom #) is already very correlated with the feature we had (square footage), and wouldn't give us much new information. \n",
    "\n",
    "What's the $R^2$ value for house square footage and # of bedrooms?"
   ]
  },
  {
   "cell_type": "code",
   "execution_count": null,
   "metadata": {},
   "outputs": [],
   "source": []
  },
  {
   "cell_type": "markdown",
   "metadata": {},
   "source": [
    "So we see that two variables don't have to be very correlated to reduce their effectiveness together. "
   ]
  },
  {
   "cell_type": "code",
   "execution_count": null,
   "metadata": {},
   "outputs": [],
   "source": []
  }
 ],
 "metadata": {
  "colab": {
   "name": "Linear Regression.ipynb",
   "provenance": [],
   "toc_visible": true,
   "version": "0.3.2"
  },
  "kernelspec": {
   "display_name": "Python 3",
   "language": "python",
   "name": "python3"
  },
  "language_info": {
   "codemirror_mode": {
    "name": "ipython",
    "version": 3
   },
   "file_extension": ".py",
   "mimetype": "text/x-python",
   "name": "python",
   "nbconvert_exporter": "python",
   "pygments_lexer": "ipython3",
   "version": "3.6.7"
  }
 },
 "nbformat": 4,
 "nbformat_minor": 1
}
