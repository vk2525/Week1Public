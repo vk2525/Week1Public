{
 "cells": [
  {
   "cell_type": "markdown",
   "metadata": {},
   "source": [
    "Hello! In this notebook we (you) are going to be visualizing and quantifying the relationships between certain variables. Most of these exercises are using a subset of the NHANES dataset from 1999-2000"
   ]
  },
  {
   "cell_type": "code",
   "execution_count": 81,
   "metadata": {},
   "outputs": [
    {
     "name": "stdout",
     "output_type": "stream",
     "text": [
      "Requirement already satisfied: sklearn in /Library/Frameworks/Python.framework/Versions/3.6/lib/python3.6/site-packages (0.0)\n",
      "Requirement already satisfied: scikit-learn in /Library/Frameworks/Python.framework/Versions/3.6/lib/python3.6/site-packages (from sklearn) (0.21.2)\n",
      "Requirement already satisfied: scipy>=0.17.0 in /Library/Frameworks/Python.framework/Versions/3.6/lib/python3.6/site-packages (from scikit-learn->sklearn) (1.3.0)\n",
      "Requirement already satisfied: numpy>=1.11.0 in /Library/Frameworks/Python.framework/Versions/3.6/lib/python3.6/site-packages (from scikit-learn->sklearn) (1.15.2)\n",
      "Requirement already satisfied: joblib>=0.11 in /Library/Frameworks/Python.framework/Versions/3.6/lib/python3.6/site-packages (from scikit-learn->sklearn) (0.13.2)\n",
      "\u001b[33mYou are using pip version 19.0.3, however version 19.1.1 is available.\n",
      "You should consider upgrading via the 'pip install --upgrade pip' command.\u001b[0m\n",
      "fatal: destination path 'Week1Public' already exists and is not an empty directory.\n"
     ]
    }
   ],
   "source": [
    "import pandas as pd\n",
    "import numpy as np\n",
    "import matplotlib.pyplot as plt\n",
    "!pip install sklearn\n",
    "import sklearn.linear_model as lm\n",
    "!git clone https://github.com/bwsimedlytics/Week1Public\n",
    "\n",
    "# Use this to plot trendlines\n",
    "def trendline(x,m,b):\n",
    "    xList = list(np.arange(min(x),max(x),(max(x)-min(x))/30))\n",
    "    plt.plot(xList,[m*delX+b for delX in xList])\n",
    "    \n",
    "# EXAMPLE USAGE\n",
    "# hp = model.fit(x,y)\n",
    "# trendline(x,hp.coef_[0],hp.intercept_)\n"
   ]
  },
  {
   "cell_type": "code",
   "execution_count": 34,
   "metadata": {},
   "outputs": [],
   "source": [
    "data = pd.read_csv(\"Week1Public/BWSI_Dataset1.csv\")"
   ]
  },
  {
   "cell_type": "code",
   "execution_count": 35,
   "metadata": {},
   "outputs": [
    {
     "data": {
      "text/html": [
       "<div>\n",
       "<style scoped>\n",
       "    .dataframe tbody tr th:only-of-type {\n",
       "        vertical-align: middle;\n",
       "    }\n",
       "\n",
       "    .dataframe tbody tr th {\n",
       "        vertical-align: top;\n",
       "    }\n",
       "\n",
       "    .dataframe thead th {\n",
       "        text-align: right;\n",
       "    }\n",
       "</style>\n",
       "<table border=\"1\" class=\"dataframe\">\n",
       "  <thead>\n",
       "    <tr style=\"text-align: right;\">\n",
       "      <th></th>\n",
       "      <th>SubjectID</th>\n",
       "      <th>Year</th>\n",
       "      <th>Sex</th>\n",
       "      <th>Age</th>\n",
       "      <th>Ethnicity</th>\n",
       "      <th>ParentEducation</th>\n",
       "      <th>MaritalStatus</th>\n",
       "      <th>HouseIncome</th>\n",
       "      <th>Protein</th>\n",
       "      <th>Carb</th>\n",
       "      <th>...</th>\n",
       "      <th>Chol</th>\n",
       "      <th>VitA</th>\n",
       "      <th>VitC</th>\n",
       "      <th>Weight</th>\n",
       "      <th>Height</th>\n",
       "      <th>BMI</th>\n",
       "      <th>BloodPres</th>\n",
       "      <th>Diabetes</th>\n",
       "      <th>HealthIns</th>\n",
       "      <th>HoursTV</th>\n",
       "    </tr>\n",
       "  </thead>\n",
       "  <tbody>\n",
       "    <tr>\n",
       "      <th>0</th>\n",
       "      <td>1</td>\n",
       "      <td>6</td>\n",
       "      <td>1</td>\n",
       "      <td>49</td>\n",
       "      <td>3</td>\n",
       "      <td>5</td>\n",
       "      <td>1</td>\n",
       "      <td>11</td>\n",
       "      <td>97.13</td>\n",
       "      <td>253.98</td>\n",
       "      <td>...</td>\n",
       "      <td>180.57</td>\n",
       "      <td>10292.63</td>\n",
       "      <td>112.19</td>\n",
       "      <td>92.5</td>\n",
       "      <td>178.3</td>\n",
       "      <td>29.10</td>\n",
       "      <td>694</td>\n",
       "      <td>2</td>\n",
       "      <td>1</td>\n",
       "      <td>2</td>\n",
       "    </tr>\n",
       "    <tr>\n",
       "      <th>1</th>\n",
       "      <td>2</td>\n",
       "      <td>2</td>\n",
       "      <td>1</td>\n",
       "      <td>37</td>\n",
       "      <td>3</td>\n",
       "      <td>4</td>\n",
       "      <td>5</td>\n",
       "      <td>11</td>\n",
       "      <td>130.02</td>\n",
       "      <td>309.57</td>\n",
       "      <td>...</td>\n",
       "      <td>1242.06</td>\n",
       "      <td>4181.03</td>\n",
       "      <td>70.96</td>\n",
       "      <td>99.2</td>\n",
       "      <td>180.0</td>\n",
       "      <td>30.62</td>\n",
       "      <td>1169</td>\n",
       "      <td>2</td>\n",
       "      <td>1</td>\n",
       "      <td>1</td>\n",
       "    </tr>\n",
       "    <tr>\n",
       "      <th>2</th>\n",
       "      <td>3</td>\n",
       "      <td>1</td>\n",
       "      <td>1</td>\n",
       "      <td>70</td>\n",
       "      <td>1</td>\n",
       "      <td>1</td>\n",
       "      <td>1</td>\n",
       "      <td>3</td>\n",
       "      <td>67.01</td>\n",
       "      <td>268.23</td>\n",
       "      <td>...</td>\n",
       "      <td>37.41</td>\n",
       "      <td>36792.50</td>\n",
       "      <td>78.51</td>\n",
       "      <td>63.6</td>\n",
       "      <td>157.7</td>\n",
       "      <td>25.57</td>\n",
       "      <td>725</td>\n",
       "      <td>1</td>\n",
       "      <td>1</td>\n",
       "      <td>5</td>\n",
       "    </tr>\n",
       "    <tr>\n",
       "      <th>3</th>\n",
       "      <td>4</td>\n",
       "      <td>6</td>\n",
       "      <td>2</td>\n",
       "      <td>38</td>\n",
       "      <td>3</td>\n",
       "      <td>5</td>\n",
       "      <td>3</td>\n",
       "      <td>8</td>\n",
       "      <td>82.66</td>\n",
       "      <td>264.69</td>\n",
       "      <td>...</td>\n",
       "      <td>596.30</td>\n",
       "      <td>3075.79</td>\n",
       "      <td>36.11</td>\n",
       "      <td>81.6</td>\n",
       "      <td>174.9</td>\n",
       "      <td>26.68</td>\n",
       "      <td>697</td>\n",
       "      <td>2</td>\n",
       "      <td>1</td>\n",
       "      <td>3</td>\n",
       "    </tr>\n",
       "    <tr>\n",
       "      <th>4</th>\n",
       "      <td>5</td>\n",
       "      <td>2</td>\n",
       "      <td>2</td>\n",
       "      <td>85</td>\n",
       "      <td>4</td>\n",
       "      <td>1</td>\n",
       "      <td>2</td>\n",
       "      <td>1</td>\n",
       "      <td>39.62</td>\n",
       "      <td>112.24</td>\n",
       "      <td>...</td>\n",
       "      <td>124.95</td>\n",
       "      <td>16894.37</td>\n",
       "      <td>69.19</td>\n",
       "      <td>41.5</td>\n",
       "      <td>144.2</td>\n",
       "      <td>19.96</td>\n",
       "      <td>687</td>\n",
       "      <td>2</td>\n",
       "      <td>1</td>\n",
       "      <td>1</td>\n",
       "    </tr>\n",
       "  </tbody>\n",
       "</table>\n",
       "<p>5 rows × 21 columns</p>\n",
       "</div>"
      ],
      "text/plain": [
       "   SubjectID  Year  Sex  Age  Ethnicity  ParentEducation  MaritalStatus  \\\n",
       "0          1     6    1   49          3                5              1   \n",
       "1          2     2    1   37          3                4              5   \n",
       "2          3     1    1   70          1                1              1   \n",
       "3          4     6    2   38          3                5              3   \n",
       "4          5     2    2   85          4                1              2   \n",
       "\n",
       "   HouseIncome  Protein    Carb  ...     Chol      VitA    VitC  Weight  \\\n",
       "0           11    97.13  253.98  ...   180.57  10292.63  112.19    92.5   \n",
       "1           11   130.02  309.57  ...  1242.06   4181.03   70.96    99.2   \n",
       "2            3    67.01  268.23  ...    37.41  36792.50   78.51    63.6   \n",
       "3            8    82.66  264.69  ...   596.30   3075.79   36.11    81.6   \n",
       "4            1    39.62  112.24  ...   124.95  16894.37   69.19    41.5   \n",
       "\n",
       "   Height    BMI  BloodPres  Diabetes  HealthIns  HoursTV  \n",
       "0   178.3  29.10        694         2          1        2  \n",
       "1   180.0  30.62       1169         2          1        1  \n",
       "2   157.7  25.57        725         1          1        5  \n",
       "3   174.9  26.68        697         2          1        3  \n",
       "4   144.2  19.96        687         2          1        1  \n",
       "\n",
       "[5 rows x 21 columns]"
      ]
     },
     "execution_count": 35,
     "metadata": {},
     "output_type": "execute_result"
    }
   ],
   "source": [
    "data.head(5)"
   ]
  },
  {
   "cell_type": "markdown",
   "metadata": {},
   "source": [
    "Here's a list of all the column names, or every feature in the dataset."
   ]
  },
  {
   "cell_type": "code",
   "execution_count": 36,
   "metadata": {},
   "outputs": [
    {
     "data": {
      "text/plain": [
       "['SubjectID',\n",
       " 'Year',\n",
       " 'Sex',\n",
       " 'Age',\n",
       " 'Ethnicity',\n",
       " 'ParentEducation',\n",
       " 'MaritalStatus',\n",
       " 'HouseIncome',\n",
       " 'Protein',\n",
       " 'Carb',\n",
       " 'TotalFat',\n",
       " 'Chol',\n",
       " 'VitA',\n",
       " 'VitC',\n",
       " 'Weight',\n",
       " 'Height',\n",
       " 'BMI',\n",
       " 'BloodPres',\n",
       " 'Diabetes',\n",
       " 'HealthIns',\n",
       " 'HoursTV']"
      ]
     },
     "execution_count": 36,
     "metadata": {},
     "output_type": "execute_result"
    }
   ],
   "source": [
    "list(data)"
   ]
  },
  {
   "cell_type": "markdown",
   "metadata": {},
   "source": [
    "We're only going to be concerned with the real/continuous variables since we're performing linear regression, but we can also split the data into categories and see how the trends change."
   ]
  },
  {
   "cell_type": "markdown",
   "metadata": {},
   "source": [
    "Let's look at something relatively simple to start off with. In the cell below, plot a labelled scatterplot of Weight vs. Height and run linear regression on it, using either scikit or writing a function to calculate it manually."
   ]
  },
  {
   "cell_type": "code",
   "execution_count": 1,
   "metadata": {},
   "outputs": [],
   "source": [
    "# Insert code here\n"
   ]
  },
  {
   "cell_type": "markdown",
   "metadata": {},
   "source": [
    "What's its $R^2$? "
   ]
  },
  {
   "cell_type": "code",
   "execution_count": null,
   "metadata": {},
   "outputs": [],
   "source": []
  },
  {
   "cell_type": "markdown",
   "metadata": {},
   "source": [
    "We know that as people grow in height linearly, their body mass can increase in an exponential way since they're growing in 3D space. Now, try the same scatterplot, but using the logarithm of Weight instead. \n",
    "\n",
    "(Hint: np.log([1,2,3]) gives [log(1), log(2), log(3)]. Use np.log on the Weight vector)"
   ]
  },
  {
   "cell_type": "code",
   "execution_count": null,
   "metadata": {},
   "outputs": [],
   "source": []
  },
  {
   "cell_type": "markdown",
   "metadata": {},
   "source": [
    "What's the $R^2$ now?"
   ]
  },
  {
   "cell_type": "code",
   "execution_count": null,
   "metadata": {},
   "outputs": [],
   "source": []
  },
  {
   "cell_type": "markdown",
   "metadata": {},
   "source": [
    "Now we're going to look at another known relationship. BMI is calculated as a function of weight and height, so we should be able to predict it exactly. But what can we use? we know from [this site](https://health.howstuffworks.com/wellness/diet-fitness/weight-loss/bmi1.htm) that the BMI is calculated using $$ \\frac{weight}{height^2} $$\n",
    "All we have to do is fit with those features, weight and 1/height$^2$."
   ]
  },
  {
   "cell_type": "markdown",
   "metadata": {},
   "source": [
    "Run linear regression on BMI vs Weight. Find the $R^2$ value"
   ]
  },
  {
   "cell_type": "code",
   "execution_count": 4,
   "metadata": {},
   "outputs": [],
   "source": [
    "# Insert code here\n"
   ]
  },
  {
   "cell_type": "markdown",
   "metadata": {},
   "source": [
    "Now add in the vector of 1/height$^2$ to the regression. Remember, 1/data[\"Height\"] will take the reciprocals of each element in data[\"Height\"], and data[\"Height\"]**2 will square each element."
   ]
  },
  {
   "cell_type": "code",
   "execution_count": 3,
   "metadata": {},
   "outputs": [],
   "source": [
    "# Insert code here\n"
   ]
  },
  {
   "cell_type": "markdown",
   "metadata": {},
   "source": [
    "What's the $R^2$?"
   ]
  },
  {
   "cell_type": "code",
   "execution_count": null,
   "metadata": {},
   "outputs": [],
   "source": []
  },
  {
   "cell_type": "markdown",
   "metadata": {},
   "source": [
    "As your last task, find an interesting relationship to visualize within this dataset or another NHANES dataframe. It can be Age vs. Weight, Height vs. TVHours, or anything else you think might show a relationship between two variables. You don't have to run Linear Regression or even find a linear relationship, but a trend should be visible. This exploration will be helpful for thinking and visualizing relationships for the final challenge problem."
   ]
  },
  {
   "cell_type": "code",
   "execution_count": 6,
   "metadata": {},
   "outputs": [],
   "source": [
    "# Find something fun!\n"
   ]
  },
  {
   "cell_type": "markdown",
   "metadata": {},
   "source": [
    "Finally, if you've made it this far, try to derive the equations underlying Linear Regression. You'll need a bit of calculus, and it's a little trickier than you might think! Remember the total error is expressed in this summation\n",
    "\n",
    " $$ \\text{Total error = }  \\sum^n_{i=1} (y_i - (mx_i+b))^2$$\n",
    " \n",
    "You simply have to take the derivative of this summation with respect to $m$ ($\\frac{d}{dm}$) and again with respect to $b$ ($\\frac{d}{db}$), set both equations equal to 0, and solve for m and b! You can go back to the Linear Regression notebook if you want to check your answers. "
   ]
  }
 ],
 "metadata": {
  "kernelspec": {
   "display_name": "Python 3",
   "language": "python",
   "name": "python3"
  },
  "language_info": {
   "codemirror_mode": {
    "name": "ipython",
    "version": 3
   },
   "file_extension": ".py",
   "mimetype": "text/x-python",
   "name": "python",
   "nbconvert_exporter": "python",
   "pygments_lexer": "ipython3",
   "version": "3.6.7"
  }
 },
 "nbformat": 4,
 "nbformat_minor": 2
}
